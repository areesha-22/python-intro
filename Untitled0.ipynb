{
  "nbformat": 4,
  "nbformat_minor": 0,
  "metadata": {
    "colab": {
      "provenance": [],
      "authorship_tag": "ABX9TyPZ8vxA8j69rVnX0kqk+Y79",
      "include_colab_link": true
    },
    "kernelspec": {
      "name": "python3",
      "display_name": "Python 3"
    },
    "language_info": {
      "name": "python"
    }
  },
  "cells": [
    {
      "cell_type": "markdown",
      "metadata": {
        "id": "view-in-github",
        "colab_type": "text"
      },
      "source": [
        "<a href=\"https://colab.research.google.com/github/areesha-22/python-intro/blob/main/Untitled0.ipynb\" target=\"_parent\"><img src=\"https://colab.research.google.com/assets/colab-badge.svg\" alt=\"Open In Colab\"/></a>"
      ]
    },
    {
      "cell_type": "code",
      "execution_count": 28,
      "metadata": {
        "colab": {
          "base_uri": "https://localhost:8080/"
        },
        "id": "jFco2_QYUtql",
        "outputId": "6adcc045-5d9f-4b1a-e40c-903be4cddc81"
      },
      "outputs": [
        {
          "output_type": "stream",
          "name": "stdout",
          "text": [
            "ali\n",
            "khan\n",
            "<class 'str'>\n",
            "ali khan\n",
            " hi ali how are you? \n",
            "['mango', 'grapes', 'apple', 'banana']\n",
            "grapes\n",
            "['grapes', 'apple']\n",
            "banana\n",
            "x==y = False\n",
            "x!=y = True\n",
            "x>y = False\n",
            "x<y = True\n",
            "x>=y = False\n",
            "x<=y = True\n"
          ]
        }
      ],
      "source": [
        "first_name=\"ali\"\n",
        "print(first_name)\n",
        "\n",
        "#with type\n",
        "last_name :str=\"khan\"\n",
        "print(last_name)\n",
        "\n",
        "#how to check type\n",
        "name=\"areesha\"\n",
        "print(type(name))\n",
        "\n",
        "#how to concatenation ?\n",
        "print(f\"{first_name} {last_name}\")\n",
        "\n",
        "#how to write variabel\n",
        "firend='ali'\n",
        "letter=f\" hi {firend} how are you? \"\n",
        "print(letter)\n",
        "\n",
        "#if you want to find the location of the variabel where store?\n",
        "# id(variabel name)\n",
        "#variabel name represnt the address of variabel because we can't memorize the address.\n",
        "id(letter)\n",
        "\n",
        "\n",
        "#LIST\n",
        "#array\n",
        "fruits=[\"mango\",\"grapes\",\"apple\",\"banana\"]\n",
        "print(fruits)\n",
        "#length of array\n",
        "len(fruits)\n",
        "\n",
        "#how to call array with index number?\n",
        "print(fruits[1])\n",
        "#it show the 1,2 not 3 include (SLICE ARRAY)\n",
        "print(fruits[1:3])\n",
        "#reverse array\n",
        "print(fruits[-1])\n",
        "\n",
        "\n",
        "#operators\n",
        "x=10\n",
        "y=5\n",
        "print(\"x==y =\", x==y)\n",
        "print(\"x!=y =\", x!=y)\n",
        "print(\"x>y =\", x>y)\n",
        "print(\"x<y =\", x<y)\n",
        "print(\"x>=y =\", x>=y)\n",
        "print(\"x<=y =\", x<=y)"
      ]
    }
  ]
}